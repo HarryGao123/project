{
 "cells": [
  {
   "cell_type": "markdown",
   "metadata": {},
   "source": [
    "# Collect the data from 2009 to 2018.\n"
   ]
  },
  {
   "cell_type": "markdown",
   "metadata": {},
   "source": [
    " The method of Combination \n",
    " - If the datasets do not appear in all these years, then I have deleted them.\n",
    " - If the columns of the same dataset do not appear in all these years, then I have deleted them.(as in function changed_columns)\n",
    " - In the Diet file, the dataset is 600MB and most of them is None, so I add another method(this method only used in this file.) to deal with this, tried to take down the file size. Shown in the below."
   ]
  },
  {
   "cell_type": "markdown",
   "metadata": {},
   "source": [
    "# Demo"
   ]
  },
  {
   "cell_type": "code",
   "execution_count": 1,
   "metadata": {
    "ExecuteTime": {
     "end_time": "2021-09-03T01:34:11.607502Z",
     "start_time": "2021-09-03T01:34:08.288878Z"
    }
   },
   "outputs": [],
   "source": [
    "import pandas as pd\n",
    "import numpy as np\n",
    "import matplotlib.pyplot as plt\n",
    "import seaborn as sns\n",
    "import glob\n",
    "import missingno as msno\n",
    "\n",
    "\n",
    "def read_data(basename):\n",
    "    \"\"\"\n",
    "    Read all nhanes data files for a category. Concatenate them all together and return resultant dataframe. \n",
    "       \n",
    "    Parameters:\n",
    "        type_dict: dictionary\n",
    "            dictionary used for dtype= in pd.read_csv\n",
    "        basename: string\n",
    "            base filename for NHANES data category\n",
    "        \n",
    "        \n",
    "    Returns:\n",
    "        df: dataframe\n",
    "            dataframe built from NHANES datafiles. \n",
    "    \"\"\"\n",
    "    \n",
    "    df_file_list = glob.iglob('data/**'+ basename+'*.XPT',recursive = True)\n",
    "    try:\n",
    "        df = pd.concat((pd.read_sas(f) for f in df_file_list), ignore_index=True)\n",
    "        df['SEQN'] = df['SEQN'].astype('int')\n",
    "    except FileNotFoundError:\n",
    "        df = pd.DataFrame()\n",
    "                              \n",
    "    return(df)\n",
    "\n",
    "def changed_columns(basename):\n",
    "    \"\"\"\n",
    "    Return list of columns that do not span all 10 years of interest. If a file is missing, \n",
    "    do not report difference for that interval.\n",
    "    \n",
    "    Parameters:\n",
    "        basename: string\n",
    "            Base of NHANES filename pattern.\n",
    "            \n",
    "    Returns:\n",
    "        list: list\n",
    "            list of all columns dropped or added between NHANES files. Columns appear in list only once. \n",
    "       \"\"\"\n",
    "    \n",
    "    df_file_list = glob.iglob('data/**'+ basename+'*.XPT',recursive = True)\n",
    "    col_name = []\n",
    "    for f in df_file_list:\n",
    "        col_name.append(pd.read_sas(f).columns.tolist())\n",
    "        \n",
    "    n7_columns = col_name[0]\n",
    "    n9_columns = col_name[1]\n",
    "    n11_columns = col_name[2]\n",
    "    n13_columns = col_name[3]\n",
    "    n15_columns = col_name[4]\n",
    "    \n",
    "    if n7_columns and n9_columns:\n",
    "        diff_7_9 = (set(n7_columns) | set(n9_columns)) - (set(n7_columns) & set(n9_columns))\n",
    "    else:\n",
    "        diff_7_9 = []\n",
    "    if n9_columns and n11_columns:\n",
    "        diff_9_11 = (set(n9_columns) | set(n11_columns)) - (set(n9_columns) & set(n11_columns))\n",
    "    else:\n",
    "        diff_9_11 = []\n",
    "    if n11_columns and n13_columns:\n",
    "        diff_11_13 = (set(n11_columns) | set(n13_columns)) - (set(n11_columns) & set(n13_columns))\n",
    "    else:\n",
    "        diff_11_13 = []\n",
    "    if n13_columns and n15_columns:\n",
    "        diff_13_15 = (set(n13_columns) | set(n15_columns)) - (set(n13_columns) & set(n15_columns))\n",
    "    else:\n",
    "        diff_13_15 = []\n",
    "\n",
    "    # Create union of all four sets of column differences to eliminate duplicates, convert to list, return list. \n",
    "    return(list(set(diff_7_9) | set(diff_9_11) | set(diff_11_13) | set(diff_13_15)))\n",
    "\n",
    "def get_data(basename):\n",
    "    \n",
    "    df = read_data(basename)\n",
    "    \n",
    "    # get the columns that appear in 10 years\n",
    "    Name_change = changed_columns(basename)\n",
    "    df = df.drop(Name_change,axis=1)\n",
    "#     print(df.head(3))\n",
    "#     print(df.info())\n",
    "   \n",
    "    return df"
   ]
  },
  {
   "cell_type": "markdown",
   "metadata": {},
   "source": [
    "## Read Demo"
   ]
  },
  {
   "cell_type": "code",
   "execution_count": 5,
   "metadata": {
    "ExecuteTime": {
     "end_time": "2021-08-24T10:27:23.085402Z",
     "start_time": "2021-08-24T10:27:21.922742Z"
    }
   },
   "outputs": [],
   "source": [
    "# read files\n",
    "basename = '/DEMO_'\n",
    "demo_all = get_data(basename)"
   ]
  },
  {
   "cell_type": "code",
   "execution_count": 84,
   "metadata": {
    "ExecuteTime": {
     "end_time": "2021-08-22T03:24:20.158494Z",
     "start_time": "2021-08-22T03:24:18.908699Z"
    }
   },
   "outputs": [],
   "source": [
    "demo_all.to_csv('data/demo_all.csv', na_rep='nan', index=False)"
   ]
  },
  {
   "cell_type": "code",
   "execution_count": 17,
   "metadata": {
    "ExecuteTime": {
     "end_time": "2021-08-24T10:29:21.297352Z",
     "start_time": "2021-08-24T10:29:19.160896Z"
    }
   },
   "outputs": [
    {
     "data": {
      "text/plain": [
       "<AxesSubplot:>"
      ]
     },
     "execution_count": 17,
     "metadata": {},
     "output_type": "execute_result"
    },
    {
     "data": {
      "image/png": "[encoded data removed]",
      "text/plain": [
       "<Figure size 432x288 with 1 Axes>"
      ]
     },
     "metadata": {
      "needs_background": "light"
     },
     "output_type": "display_data"
    }
   ],
   "source": [
    "sns.heatmap(demo_all.isnull(), cbar=False)"
   ]
  },
  {
   "cell_type": "code",
   "execution_count": 19,
   "metadata": {
    "ExecuteTime": {
     "end_time": "2021-08-24T10:32:09.372453Z",
     "start_time": "2021-08-24T10:32:09.325958Z"
    }
   },
   "outputs": [
    {
     "data": {
      "text/html": [
       "<div>\n",
       "<style scoped>\n",
       "    .dataframe tbody tr th:only-of-type {\n",
       "        vertical-align: middle;\n",
       "    }\n",
       "\n",
       "    .dataframe tbody tr th {\n",
       "        vertical-align: top;\n",
       "    }\n",
       "\n",
       "    .dataframe thead th {\n",
       "        text-align: right;\n",
       "    }\n",
       "</style>\n",
       "<table border=\"1\" class=\"dataframe\">\n",
       "  <thead>\n",
       "    <tr style=\"text-align: right;\">\n",
       "      <th></th>\n",
       "      <th>SEQN</th>\n",
       "      <th>SDDSRVYR</th>\n",
       "      <th>RIDSTATR</th>\n",
       "      <th>RIAGENDR</th>\n",
       "      <th>RIDAGEYR</th>\n",
       "      <th>RIDAGEMN</th>\n",
       "      <th>RIDRETH1</th>\n",
       "      <th>RIDEXMON</th>\n",
       "      <th>DMDCITZN</th>\n",
       "      <th>DMDYRSUS</th>\n",
       "      <th>...</th>\n",
       "      <th>WTINT2YR</th>\n",
       "      <th>WTMEC2YR</th>\n",
       "      <th>SDMVPSU</th>\n",
       "      <th>SDMVSTRA</th>\n",
       "      <th>INDHHIN2</th>\n",
       "      <th>INDFMIN2</th>\n",
       "      <th>INDFMPIR</th>\n",
       "      <th>DMDHHSIZ</th>\n",
       "      <th>DMDFMSIZ</th>\n",
       "      <th>DMDHRGND</th>\n",
       "    </tr>\n",
       "  </thead>\n",
       "  <tbody>\n",
       "    <tr>\n",
       "      <th>0</th>\n",
       "      <td>62161</td>\n",
       "      <td>7.0</td>\n",
       "      <td>2.0</td>\n",
       "      <td>1.0</td>\n",
       "      <td>22.0</td>\n",
       "      <td>NaN</td>\n",
       "      <td>3.0</td>\n",
       "      <td>2.0</td>\n",
       "      <td>1.0</td>\n",
       "      <td>NaN</td>\n",
       "      <td>...</td>\n",
       "      <td>102641.406474</td>\n",
       "      <td>104236.582554</td>\n",
       "      <td>1.0</td>\n",
       "      <td>91.0</td>\n",
       "      <td>14.0</td>\n",
       "      <td>14.0</td>\n",
       "      <td>3.15</td>\n",
       "      <td>5.0</td>\n",
       "      <td>5.0</td>\n",
       "      <td>2.0</td>\n",
       "    </tr>\n",
       "    <tr>\n",
       "      <th>1</th>\n",
       "      <td>62162</td>\n",
       "      <td>7.0</td>\n",
       "      <td>2.0</td>\n",
       "      <td>2.0</td>\n",
       "      <td>3.0</td>\n",
       "      <td>NaN</td>\n",
       "      <td>1.0</td>\n",
       "      <td>1.0</td>\n",
       "      <td>1.0</td>\n",
       "      <td>NaN</td>\n",
       "      <td>...</td>\n",
       "      <td>15457.736897</td>\n",
       "      <td>16116.354010</td>\n",
       "      <td>3.0</td>\n",
       "      <td>92.0</td>\n",
       "      <td>4.0</td>\n",
       "      <td>4.0</td>\n",
       "      <td>0.60</td>\n",
       "      <td>6.0</td>\n",
       "      <td>6.0</td>\n",
       "      <td>2.0</td>\n",
       "    </tr>\n",
       "    <tr>\n",
       "      <th>2</th>\n",
       "      <td>62163</td>\n",
       "      <td>7.0</td>\n",
       "      <td>2.0</td>\n",
       "      <td>1.0</td>\n",
       "      <td>14.0</td>\n",
       "      <td>NaN</td>\n",
       "      <td>5.0</td>\n",
       "      <td>2.0</td>\n",
       "      <td>1.0</td>\n",
       "      <td>NaN</td>\n",
       "      <td>...</td>\n",
       "      <td>7397.684828</td>\n",
       "      <td>7869.485117</td>\n",
       "      <td>3.0</td>\n",
       "      <td>90.0</td>\n",
       "      <td>15.0</td>\n",
       "      <td>15.0</td>\n",
       "      <td>4.07</td>\n",
       "      <td>5.0</td>\n",
       "      <td>5.0</td>\n",
       "      <td>1.0</td>\n",
       "    </tr>\n",
       "    <tr>\n",
       "      <th>3</th>\n",
       "      <td>62164</td>\n",
       "      <td>7.0</td>\n",
       "      <td>2.0</td>\n",
       "      <td>2.0</td>\n",
       "      <td>44.0</td>\n",
       "      <td>NaN</td>\n",
       "      <td>3.0</td>\n",
       "      <td>1.0</td>\n",
       "      <td>1.0</td>\n",
       "      <td>NaN</td>\n",
       "      <td>...</td>\n",
       "      <td>127351.373299</td>\n",
       "      <td>127965.226204</td>\n",
       "      <td>1.0</td>\n",
       "      <td>94.0</td>\n",
       "      <td>8.0</td>\n",
       "      <td>8.0</td>\n",
       "      <td>1.67</td>\n",
       "      <td>5.0</td>\n",
       "      <td>5.0</td>\n",
       "      <td>1.0</td>\n",
       "    </tr>\n",
       "    <tr>\n",
       "      <th>4</th>\n",
       "      <td>62165</td>\n",
       "      <td>7.0</td>\n",
       "      <td>2.0</td>\n",
       "      <td>2.0</td>\n",
       "      <td>14.0</td>\n",
       "      <td>NaN</td>\n",
       "      <td>4.0</td>\n",
       "      <td>2.0</td>\n",
       "      <td>1.0</td>\n",
       "      <td>NaN</td>\n",
       "      <td>...</td>\n",
       "      <td>12209.744980</td>\n",
       "      <td>13384.042162</td>\n",
       "      <td>2.0</td>\n",
       "      <td>90.0</td>\n",
       "      <td>4.0</td>\n",
       "      <td>4.0</td>\n",
       "      <td>0.57</td>\n",
       "      <td>5.0</td>\n",
       "      <td>5.0</td>\n",
       "      <td>2.0</td>\n",
       "    </tr>\n",
       "  </tbody>\n",
       "</table>\n",
       "<p>5 rows × 33 columns</p>\n",
       "</div>"
      ],
      "text/plain": [
       "    SEQN  SDDSRVYR  RIDSTATR  RIAGENDR  RIDAGEYR  RIDAGEMN  RIDRETH1  \\\n",
       "0  62161       7.0       2.0       1.0      22.0       NaN       3.0   \n",
       "1  62162       7.0       2.0       2.0       3.0       NaN       1.0   \n",
       "2  62163       7.0       2.0       1.0      14.0       NaN       5.0   \n",
       "3  62164       7.0       2.0       2.0      44.0       NaN       3.0   \n",
       "4  62165       7.0       2.0       2.0      14.0       NaN       4.0   \n",
       "\n",
       "   RIDEXMON  DMDCITZN  DMDYRSUS  ...       WTINT2YR       WTMEC2YR  SDMVPSU  \\\n",
       "0       2.0       1.0       NaN  ...  102641.406474  104236.582554      1.0   \n",
       "1       1.0       1.0       NaN  ...   15457.736897   16116.354010      3.0   \n",
       "2       2.0       1.0       NaN  ...    7397.684828    7869.485117      3.0   \n",
       "3       1.0       1.0       NaN  ...  127351.373299  127965.226204      1.0   \n",
       "4       2.0       1.0       NaN  ...   12209.744980   13384.042162      2.0   \n",
       "\n",
       "   SDMVSTRA  INDHHIN2  INDFMIN2  INDFMPIR  DMDHHSIZ  DMDFMSIZ  DMDHRGND  \n",
       "0      91.0      14.0      14.0      3.15       5.0       5.0       2.0  \n",
       "1      92.0       4.0       4.0      0.60       6.0       6.0       2.0  \n",
       "2      90.0      15.0      15.0      4.07       5.0       5.0       1.0  \n",
       "3      94.0       8.0       8.0      1.67       5.0       5.0       1.0  \n",
       "4      90.0       4.0       4.0      0.57       5.0       5.0       2.0  \n",
       "\n",
       "[5 rows x 33 columns]"
      ]
     },
     "execution_count": 19,
     "metadata": {},
     "output_type": "execute_result"
    }
   ],
   "source": [
    "demo_all.head()"
   ]
  },
  {
   "cell_type": "code",
   "execution_count": 18,
   "metadata": {
    "ExecuteTime": {
     "end_time": "2021-08-24T10:29:38.075579Z",
     "start_time": "2021-08-24T10:29:38.035119Z"
    }
   },
   "outputs": [
    {
     "name": "stdout",
     "output_type": "stream",
     "text": [
      "<class 'pandas.core.frame.DataFrame'>\n",
      "RangeIndex: 49693 entries, 0 to 49692\n",
      "Data columns (total 33 columns):\n",
      " #   Column    Non-Null Count  Dtype  \n",
      "---  ------    --------------  -----  \n",
      " 0   SEQN      49693 non-null  int64  \n",
      " 1   SDDSRVYR  49693 non-null  float64\n",
      " 2   RIDSTATR  49693 non-null  float64\n",
      " 3   RIAGENDR  49693 non-null  float64\n",
      " 4   RIDAGEYR  49693 non-null  float64\n",
      " 5   RIDAGEMN  12703 non-null  float64\n",
      " 6   RIDRETH1  49693 non-null  float64\n",
      " 7   RIDEXMON  47652 non-null  float64\n",
      " 8   DMDCITZN  49672 non-null  float64\n",
      " 9   DMDYRSUS  10147 non-null  float64\n",
      " 10  DMDEDUC3  12950 non-null  float64\n",
      " 11  DMDEDUC2  28835 non-null  float64\n",
      " 12  DMDMARTL  28835 non-null  float64\n",
      " 13  RIDEXPRG  6320 non-null   float64\n",
      " 14  SIALANG   49693 non-null  float64\n",
      " 15  SIAPROXY  49682 non-null  float64\n",
      " 16  SIAINTRP  49693 non-null  float64\n",
      " 17  FIALANG   48596 non-null  float64\n",
      " 18  FIAPROXY  48596 non-null  float64\n",
      " 19  FIAINTRP  48596 non-null  float64\n",
      " 20  MIALANG   35044 non-null  float64\n",
      " 21  MIAPROXY  35046 non-null  float64\n",
      " 22  MIAINTRP  35046 non-null  float64\n",
      " 23  WTINT2YR  49693 non-null  float64\n",
      " 24  WTMEC2YR  49693 non-null  float64\n",
      " 25  SDMVPSU   49693 non-null  float64\n",
      " 26  SDMVSTRA  49693 non-null  float64\n",
      " 27  INDHHIN2  48556 non-null  float64\n",
      " 28  INDFMIN2  48644 non-null  float64\n",
      " 29  INDFMPIR  44789 non-null  float64\n",
      " 30  DMDHHSIZ  49693 non-null  float64\n",
      " 31  DMDFMSIZ  49693 non-null  float64\n",
      " 32  DMDHRGND  49693 non-null  float64\n",
      "dtypes: float64(32), int64(1)\n",
      "memory usage: 12.5 MB\n"
     ]
    }
   ],
   "source": [
    "demo_all.info()"
   ]
  },
  {
   "cell_type": "markdown",
   "metadata": {},
   "source": [
    "## Read Diet file"
   ]
  },
  {
   "cell_type": "code",
   "execution_count": 6,
   "metadata": {
    "ExecuteTime": {
     "end_time": "2021-08-24T10:27:28.109395Z",
     "start_time": "2021-08-24T10:27:24.201551Z"
    }
   },
   "outputs": [],
   "source": [
    "DR1TOT = get_data('/DR1TOT_')\n",
    "diet_all = DR1TOT"
   ]
  },
  {
   "cell_type": "code",
   "execution_count": 7,
   "metadata": {
    "ExecuteTime": {
     "end_time": "2021-08-24T10:27:38.413803Z",
     "start_time": "2021-08-24T10:27:28.467671Z"
    }
   },
   "outputs": [
    {
     "data": {
      "text/plain": [
       "<AxesSubplot:>"
      ]
     },
     "execution_count": 7,
     "metadata": {},
     "output_type": "execute_result"
    },
    {
     "data": {
      "image/png": "[encoded data removed]",
      "text/plain": [
       "<Figure size 432x288 with 1 Axes>"
      ]
     },
     "metadata": {
      "needs_background": "light"
     },
     "output_type": "display_data"
    }
   ],
   "source": [
    "sns.heatmap(diet_all.isnull(), cbar=False)"
   ]
  },
  {
   "cell_type": "code",
   "execution_count": 8,
   "metadata": {
    "ExecuteTime": {
     "end_time": "2021-08-24T10:27:38.712838Z",
     "start_time": "2021-08-24T10:27:38.687449Z"
    }
   },
   "outputs": [
    {
     "data": {
      "text/plain": [
       "(47652, 163)"
      ]
     },
     "execution_count": 8,
     "metadata": {},
     "output_type": "execute_result"
    }
   ],
   "source": [
    "diet_all.shape"
   ]
  },
  {
   "cell_type": "code",
   "execution_count": 9,
   "metadata": {
    "ExecuteTime": {
     "end_time": "2021-08-24T10:27:39.024711Z",
     "start_time": "2021-08-24T10:27:38.971946Z"
    }
   },
   "outputs": [
    {
     "data": {
      "text/plain": [
       "count      163.000000\n",
       "mean     20008.306748\n",
       "std      17539.485592\n",
       "min          0.000000\n",
       "25%       5298.000000\n",
       "50%       5298.000000\n",
       "75%      40216.000000\n",
       "max      47645.000000\n",
       "dtype: float64"
      ]
     },
     "execution_count": 9,
     "metadata": {},
     "output_type": "execute_result"
    }
   ],
   "source": [
    "diet_all_null_counts = diet_all.isnull().sum()\n",
    "diet_all_null_counts.describe()"
   ]
  },
  {
   "cell_type": "code",
   "execution_count": 10,
   "metadata": {
    "ExecuteTime": {
     "end_time": "2021-08-24T10:27:39.312779Z",
     "start_time": "2021-08-24T10:27:39.272234Z"
    }
   },
   "outputs": [
    {
     "data": {
      "text/plain": [
       "count    47652.000000\n",
       "mean        68.441073\n",
       "std         34.292417\n",
       "min         26.000000\n",
       "25%         42.000000\n",
       "50%         55.000000\n",
       "75%         77.000000\n",
       "max        161.000000\n",
       "dtype: float64"
      ]
     },
     "execution_count": 10,
     "metadata": {},
     "output_type": "execute_result"
    }
   ],
   "source": [
    "diet_all_null_counts = diet_all.isnull().sum(axis=1)\n",
    "diet_all_null_counts.describe()"
   ]
  },
  {
   "cell_type": "code",
   "execution_count": 11,
   "metadata": {
    "ExecuteTime": {
     "end_time": "2021-08-24T10:27:39.675257Z",
     "start_time": "2021-08-24T10:27:39.553672Z"
    }
   },
   "outputs": [],
   "source": [
    "diet_all = diet_all[diet_all.isnull().sum(axis=1) < 160]\n"
   ]
  },
  {
   "cell_type": "code",
   "execution_count": 12,
   "metadata": {
    "ExecuteTime": {
     "end_time": "2021-08-24T10:27:39.961062Z",
     "start_time": "2021-08-24T10:27:39.944050Z"
    }
   },
   "outputs": [
    {
     "data": {
      "text/plain": [
       "(43612, 163)"
      ]
     },
     "execution_count": 12,
     "metadata": {},
     "output_type": "execute_result"
    }
   ],
   "source": [
    "diet_all.shape"
   ]
  },
  {
   "cell_type": "markdown",
   "metadata": {},
   "source": [
    "Delete some columns having over 40% Nan."
   ]
  },
  {
   "cell_type": "code",
   "execution_count": 14,
   "metadata": {
    "ExecuteTime": {
     "end_time": "2021-08-24T10:27:50.317809Z",
     "start_time": "2021-08-24T10:27:48.952115Z"
    }
   },
   "outputs": [],
   "source": [
    "for col in diet_all.columns:\n",
    "    col_sum = diet_all[col].isnull().sum()\n",
    "    if col_sum / diet_all.shape[0] >= 0.4:\n",
    "        diet_all = diet_all.drop(col,axis=1)"
   ]
  },
  {
   "cell_type": "code",
   "execution_count": 144,
   "metadata": {
    "ExecuteTime": {
     "end_time": "2021-08-22T06:18:24.177190Z",
     "start_time": "2021-08-22T06:18:19.421462Z"
    }
   },
   "outputs": [],
   "source": [
    "diet_all.to_csv('data/diet_all.csv', na_rep='nan', index=False)"
   ]
  },
  {
   "cell_type": "markdown",
   "metadata": {},
   "source": [
    "## read and combine Examnation data "
   ]
  },
  {
   "cell_type": "code",
   "execution_count": 86,
   "metadata": {
    "ExecuteTime": {
     "end_time": "2021-08-22T03:26:10.502871Z",
     "start_time": "2021-08-22T03:26:08.208314Z"
    }
   },
   "outputs": [],
   "source": [
    "BMX_ = get_data('/BMX_')\n",
    "\n",
    "BPX_ = get_data('/BPX_')\n",
    "\n",
    "exam_all = pd.merge(BMX_, BPX_, on='SEQN')\n",
    "\n",
    "exam_all.to_csv('data/exam_all.csv', na_rep='nan', index=False)"
   ]
  },
  {
   "cell_type": "markdown",
   "metadata": {},
   "source": [
    "## read and combine Lab data "
   ]
  },
  {
   "cell_type": "code",
   "execution_count": 87,
   "metadata": {
    "ExecuteTime": {
     "end_time": "2021-08-22T03:26:22.716839Z",
     "start_time": "2021-08-22T03:26:12.299396Z"
    }
   },
   "outputs": [],
   "source": [
    "ALB_CR_ = get_data('/ALB_CR')\n",
    "\n",
    "BIOPRO_ = get_data('/BIOPRO_')\n",
    "\n",
    "CBC_ = get_data('/CBC_')\n",
    "\n",
    "FASTQX_ = get_data('/FASTQX_')\n",
    "\n",
    "FOLATE_ = get_data('/FOLATE_')\n",
    "\n",
    "GHB_ = get_data('/GHB_')\n",
    "\n",
    "GLU_ = get_data('/GLU_')\n",
    "\n",
    "HDL_ = get_data('/HDL_')\n",
    "\n",
    "HEPA_ = get_data('/HEPA_')\n",
    "\n",
    "HEPB_S_ = get_data('/HEPB_S_')\n",
    "\n",
    "HEPBD_ = get_data('/HEPBD_')\n",
    "\n",
    "HEPC_ = get_data('/HEPC_')\n",
    "\n",
    "HIV_ = get_data('/HIV_')\n",
    "\n",
    "PBCD_ = get_data('/PBCD_')\n",
    "\n",
    "TCHOL_ = get_data('/TCHOL_')\n",
    "\n",
    "TRIGLY_ = get_data('/TRIGLY_')\n",
    "\n",
    "UAS_ = get_data('/UAS_')\n",
    "\n",
    "UCPREG_ = get_data('/UCPREG_')\n",
    "\n",
    "UHG_ = get_data('/UHG_')\n",
    "\n",
    "UIO_ = get_data('/UIO_')\n",
    "\n",
    "VOCWB_ = get_data('/VOCWB_')\n",
    "\n",
    "dfs = [ALB_CR_,\n",
    "BIOPRO_,\n",
    "CBC_,\n",
    "FASTQX_,\n",
    "FOLATE_,\n",
    "GHB_,\n",
    "GLU_,\n",
    "HDL_,\n",
    "HEPA_,\n",
    "HEPB_S_,\n",
    "HEPBD_,\n",
    "HEPC_,\n",
    "HIV_,\n",
    "PBCD_,\n",
    "TCHOL_,\n",
    "TRIGLY_,\n",
    "UAS_,\n",
    "UCPREG_,\n",
    "UHG_,\n",
    "UIO_,\n",
    "VOCWB_]\n",
    "\n",
    "labs_all = pd.merge(dfs[0], dfs[1], on='SEQN', how='outer')\n",
    "\n",
    "for df in dfs[2:]:\n",
    "    labs_all = pd.merge(labs_all, df, on='SEQN', how='outer')\n",
    "\n",
    "labs_all.to_csv('data/labs_all.csv', na_rep='nan', index=False)"
   ]
  },
  {
   "cell_type": "markdown",
   "metadata": {},
   "source": [
    "## read and combine questionnaire data "
   ]
  },
  {
   "cell_type": "code",
   "execution_count": 56,
   "metadata": {
    "ExecuteTime": {
     "end_time": "2021-09-03T03:32:14.667580Z",
     "start_time": "2021-09-03T03:31:57.247220Z"
    }
   },
   "outputs": [],
   "source": [
    "ACQ_ = get_data('/ACQ_')\n",
    "\n",
    "ALQ_ = get_data('/ALQ_')\n",
    "\n",
    "BPQ_ = get_data('/BPQ_')\n",
    "\n",
    "CDQ_ = get_data('/CDQ_')\n",
    "\n",
    "DBQ_ = get_data('/DBQ_')\n",
    "\n",
    "DIQ_ = get_data('/DIQ_')\n",
    "\n",
    "DPQ_ = get_data('/DPQ_')\n",
    "\n",
    "DUQ_ = get_data('/DUQ_')\n",
    "\n",
    "ECQ_ = get_data('/ECQ_')\n",
    "\n",
    "FSQ_ = get_data('/FSQ_')\n",
    "\n",
    "HOQ_ = get_data('/HOQ_')\n",
    "\n",
    "HSQ_ = get_data('/HSQ_')\n",
    "\n",
    "HUQ_ = get_data('/HUQ_')\n",
    "\n",
    "IMQ_ = get_data('/IMQ_')\n",
    "\n",
    "INQ_ = get_data('/INQ_')\n",
    "\n",
    "KIQ_U_ = get_data('/KIQ_U_')\n",
    "\n",
    "MCQ_ = get_data('/MCQ_')\n",
    "\n",
    "OCQ_ = get_data('/OCQ_')\n",
    "\n",
    "PAQ_ = get_data('/PAQ_')\n",
    "\n",
    "PUQMEC_ = get_data('/PUQMEC_')\n",
    "\n",
    "RHQ_ = get_data('/RHQ_')\n",
    "\n",
    "RXQ_RX_ = get_data('/RXQ_RX_')\n",
    "\n",
    "SLQ_ = get_data('/SLQ_')\n",
    "\n",
    "SMQ_ = get_data('/SMQ_')\n",
    "\n",
    "SMQRTU_ = get_data('/SMQRTU_')\n",
    "\n",
    "WHQ_ = get_data('/WHQ_')\n",
    "\n",
    "WHQMEC_ = get_data('/WHQMEC_')\n",
    "\n",
    "PFQ_ = get_data('/PFQ_')\n",
    "\n",
    "dfs = [\n",
    "ACQ_,\n",
    "\n",
    "ALQ_,\n",
    "\n",
    "BPQ_ ,\n",
    "\n",
    "CDQ_ ,\n",
    "\n",
    "DBQ_ ,\n",
    "DIQ_ ,\n",
    "\n",
    "DPQ_ ,\n",
    "\n",
    "DUQ_ ,\n",
    "\n",
    "ECQ_ ,\n",
    "\n",
    "FSQ_ ,\n",
    "\n",
    "HOQ_,\n",
    "\n",
    "HSQ_ ,\n",
    "\n",
    "HUQ_ ,\n",
    "\n",
    "IMQ_ ,\n",
    "\n",
    "INQ_ ,\n",
    "\n",
    "KIQ_U_, \n",
    "\n",
    "MCQ_ ,\n",
    "\n",
    "OCQ_ ,\n",
    "\n",
    "PAQ_,\n",
    "\n",
    "PUQMEC_, \n",
    "\n",
    "RHQ_ ,\n",
    "RXQ_RX_, \n",
    "\n",
    "SLQ_ ,\n",
    "\n",
    "SMQ_ ,\n",
    "\n",
    "SMQRTU_ ,\n",
    "\n",
    "WHQ_ ,\n",
    "WHQMEC_,\n",
    "PFQ_ ]\n",
    "\n",
    "questionnaire_all = pd.merge(dfs[0], dfs[1], on='SEQN', how='outer')\n",
    "\n",
    "for df in dfs[2:]:\n",
    "    questionnaire_all = pd.merge(questionnaire_all, df, on='SEQN', how='outer')\n",
    "\n",
    "# questionnaire_all.to_csv('data/questionnaire_all.csv', na_rep='nan', index=False)"
   ]
  },
  {
   "cell_type": "code",
   "execution_count": 58,
   "metadata": {
    "ExecuteTime": {
     "end_time": "2021-09-03T03:32:26.071890Z",
     "start_time": "2021-09-03T03:32:17.962947Z"
    }
   },
   "outputs": [],
   "source": [
    "import numpy as np\n",
    "def conditions(s):\n",
    "    if (s['MCQ160B']  == 1.0 ) or (s['MCQ160C'] == 1.0) or (s['MCQ160E'] == 1.0) or (s['MCQ160F'] == 1.0):\n",
    "        return 1\n",
    "    elif (s['MCQ160B']  == 2.0 ) and (s['MCQ160C'] == 2.0) and (s['MCQ160E'] == 2.0) and (s['MCQ160F'] == 2.0):\n",
    "        return 0\n",
    "    else:\n",
    "        return np.nan\n",
    "    \n",
    "questionnaire_all['Target'] = questionnaire_all.apply(conditions, axis=1)\n"
   ]
  },
  {
   "cell_type": "code",
   "execution_count": 60,
   "metadata": {
    "ExecuteTime": {
     "end_time": "2021-09-03T03:32:33.872285Z",
     "start_time": "2021-09-03T03:32:33.148870Z"
    }
   },
   "outputs": [],
   "source": [
    "questionnaire_all = questionnaire_all.loc[questionnaire_all['Target'].isnull()==False,:]"
   ]
  },
  {
   "cell_type": "code",
   "execution_count": 62,
   "metadata": {
    "ExecuteTime": {
     "end_time": "2021-09-03T03:33:42.148380Z",
     "start_time": "2021-09-03T03:33:12.042095Z"
    }
   },
   "outputs": [],
   "source": [
    "for col in questionnaire_all.columns:\n",
    "    col_sum = questionnaire_all[col].isnull().sum()\n",
    "    if col_sum / questionnaire_all.shape[0] >= 0.4:\n",
    "        questionnaire_all = questionnaire_all.drop(col,axis=1)"
   ]
  },
  {
   "cell_type": "code",
   "execution_count": 63,
   "metadata": {
    "ExecuteTime": {
     "end_time": "2021-09-03T03:33:55.318838Z",
     "start_time": "2021-09-03T03:33:43.696523Z"
    }
   },
   "outputs": [
    {
     "data": {
      "text/plain": [
       "Text(33.0, 0.5, 'Counts')"
      ]
     },
     "execution_count": 63,
     "metadata": {},
     "output_type": "execute_result"
    },
    {
     "data": {
      "image/png": "[encoded data removed]",
      "text/plain": [
       "<Figure size 432x288 with 1 Axes>"
      ]
     },
     "metadata": {
      "needs_background": "light"
     },
     "output_type": "display_data"
    }
   ],
   "source": [
    "sns.heatmap(questionnaire_all.isnull(), cbar=False)\n",
    "plt.title('Missing values in Questionnaire')\n",
    "plt.xlabel('Columns')\n",
    "plt.ylabel('Counts')"
   ]
  },
  {
   "cell_type": "code",
   "execution_count": 67,
   "metadata": {
    "ExecuteTime": {
     "end_time": "2021-09-03T03:43:04.857243Z",
     "start_time": "2021-09-03T03:42:54.475424Z"
    }
   },
   "outputs": [],
   "source": [
    "questionnaire_all.to_csv('data/data/questionnaire_all_old.csv', na_rep='nan', index=False)"
   ]
  }
 ],
 "metadata": {
  "hide_input": false,
  "kernelspec": {
   "display_name": "Python 3",
   "language": "python",
   "name": "python3"
  },
  "language_info": {
   "codemirror_mode": {
    "name": "ipython",
    "version": 3
   },
   "file_extension": ".py",
   "mimetype": "text/x-python",
   "name": "python",
   "nbconvert_exporter": "python",
   "pygments_lexer": "ipython3",
   "version": "3.8.5"
  },
  "toc": {
   "base_numbering": 1,
   "nav_menu": {},
   "number_sections": true,
   "sideBar": true,
   "skip_h1_title": false,
   "title_cell": "Table of Contents",
   "title_sidebar": "Contents",
   "toc_cell": false,
   "toc_position": {},
   "toc_section_display": true,
   "toc_window_display": false
  },
  "varInspector": {
   "cols": {
    "lenName": 16,
    "lenType": 16,
    "lenVar": 40
   },
   "kernels_config": {
    "python": {
     "delete_cmd_postfix": "",
     "delete_cmd_prefix": "del ",
     "library": "var_list.py",
     "varRefreshCmd": "print(var_dic_list())"
    },
    "r": {
     "delete_cmd_postfix": ") ",
     "delete_cmd_prefix": "rm(",
     "library": "var_list.r",
     "varRefreshCmd": "cat(var_dic_list()) "
    }
   },
   "position": {
    "height": "145px",
    "left": "1582px",
    "right": "20px",
    "top": "190px",
    "width": "350px"
   },
   "types_to_exclude": [
    "module",
    "function",
    "builtin_function_or_method",
    "instance",
    "_Feature"
   ],
   "window_display": false
  }
 },
 "nbformat": 4,
 "nbformat_minor": 4
}
