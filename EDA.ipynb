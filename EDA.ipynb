{
 "cells": [
  {
   "cell_type": "code",
   "execution_count": 17,
   "metadata": {
    "ExecuteTime": {
     "end_time": "2021-10-24T06:52:34.238935Z",
     "start_time": "2021-10-24T06:52:34.108768Z"
    }
   },
   "outputs": [],
   "source": [
    "import numpy as np\n",
    "import pandas as pd\n",
    "import seaborn as sns\n",
    "import matplotlib.pyplot as plt\n",
    "import scipy.stats as stats"
   ]
  },
  {
   "cell_type": "code",
   "execution_count": 18,
   "metadata": {
    "ExecuteTime": {
     "end_time": "2021-10-24T06:52:37.200658Z",
     "start_time": "2021-10-24T06:52:34.433593Z"
    }
   },
   "outputs": [],
   "source": [
    "demo_all = pd.read_csv('data/data/demo_all.csv')\n",
    "\n",
    "diet_all = pd.read_csv('data/data/diet_all.csv')\n",
    "\n",
    "exam_all = pd.read_csv('data/data/exam_all.csv')\n",
    "\n",
    "labs_all = pd.read_csv('data/data/labs_all.csv')\n",
    "\n",
    "questionnaire_all = pd.read_csv('data/data/questionnaire_all.csv')"
   ]
  },
  {
   "cell_type": "code",
   "execution_count": 2,
   "metadata": {
    "ExecuteTime": {
     "end_time": "2021-10-23T09:47:23.359257Z",
     "start_time": "2021-10-23T09:47:23.186538Z"
    }
   },
   "outputs": [],
   "source": [
    "df = pd.read_csv('try_data/final_data.csv')"
   ]
  },
  {
   "cell_type": "code",
   "execution_count": 38,
   "metadata": {
    "ExecuteTime": {
     "end_time": "2021-10-25T02:22:16.867873Z",
     "start_time": "2021-10-25T02:22:16.834321Z"
    }
   },
   "outputs": [
    {
     "data": {
      "text/plain": [
       "(59214, 20)"
      ]
     },
     "execution_count": 38,
     "metadata": {},
     "output_type": "execute_result"
    }
   ],
   "source": [
    "df.shape"
   ]
  },
  {
   "cell_type": "markdown",
   "metadata": {},
   "source": [
    "### Explore CVD "
   ]
  },
  {
   "cell_type": "code",
   "execution_count": 16,
   "metadata": {
    "ExecuteTime": {
     "end_time": "2021-10-23T10:14:05.082177Z",
     "start_time": "2021-10-23T10:14:04.895637Z"
    }
   },
   "outputs": [
    {
     "name": "stderr",
     "output_type": "stream",
     "text": [
      "/Users/harrygao/opt/anaconda3/lib/python3.8/site-packages/seaborn/_decorators.py:36: FutureWarning: Pass the following variables as keyword args: x, y. From version 0.12, the only valid positional argument will be `data`, and passing other arguments without an explicit keyword will result in an error or misinterpretation.\n",
      "  warnings.warn(\n"
     ]
    },
    {
     "data": {
      "image/png": "[encoded data removed]",
      "text/plain": [
       "<Figure size 720x360 with 1 Axes>"
      ]
     },
     "metadata": {},
     "output_type": "display_data"
    }
   ],
   "source": [
    "fig, ax = plt.subplots(figsize=(10, 5))\n",
    "sns.set(font_scale=1.5)\n",
    "ax = sns.barplot(if_cvd.index, if_cvd.values)\n",
    "ax.set_xticklabels(['No CVD', 'CVD'])\n",
    "ax.set_title('Proportion of if being diagnosed with CVD')\n",
    "ax.set_xlabel('CVD Indicator')\n",
    "ax.set_ylabel('Proportion')\n",
    "plt.show()"
   ]
  },
  {
   "cell_type": "markdown",
   "metadata": {},
   "source": [
    "### Is there a correlation between gender and CVD"
   ]
  },
  {
   "cell_type": "code",
   "execution_count": 39,
   "metadata": {
    "ExecuteTime": {
     "end_time": "2021-10-25T02:23:08.909420Z",
     "start_time": "2021-10-25T02:23:08.726803Z"
    }
   },
   "outputs": [
    {
     "data": {
      "text/html": [
       "<div>\n",
       "<style scoped>\n",
       "    .dataframe tbody tr th:only-of-type {\n",
       "        vertical-align: middle;\n",
       "    }\n",
       "\n",
       "    .dataframe tbody tr th {\n",
       "        vertical-align: top;\n",
       "    }\n",
       "\n",
       "    .dataframe thead th {\n",
       "        text-align: right;\n",
       "    }\n",
       "</style>\n",
       "<table border=\"1\" class=\"dataframe\">\n",
       "  <thead>\n",
       "    <tr style=\"text-align: right;\">\n",
       "      <th>CVD Indicator</th>\n",
       "      <th>0.0</th>\n",
       "      <th>1.0</th>\n",
       "      <th>All</th>\n",
       "    </tr>\n",
       "    <tr>\n",
       "      <th>Gender</th>\n",
       "      <th></th>\n",
       "      <th></th>\n",
       "      <th></th>\n",
       "    </tr>\n",
       "  </thead>\n",
       "  <tbody>\n",
       "    <tr>\n",
       "      <th>1.0</th>\n",
       "      <td>20150</td>\n",
       "      <td>7734</td>\n",
       "      <td>27884</td>\n",
       "    </tr>\n",
       "    <tr>\n",
       "      <th>2.0</th>\n",
       "      <td>25467</td>\n",
       "      <td>5863</td>\n",
       "      <td>31330</td>\n",
       "    </tr>\n",
       "    <tr>\n",
       "      <th>All</th>\n",
       "      <td>45617</td>\n",
       "      <td>13597</td>\n",
       "      <td>59214</td>\n",
       "    </tr>\n",
       "  </tbody>\n",
       "</table>\n",
       "</div>"
      ],
      "text/plain": [
       "CVD Indicator    0.0    1.0    All\n",
       "Gender                            \n",
       "1.0            20150   7734  27884\n",
       "2.0            25467   5863  31330\n",
       "All            45617  13597  59214"
      ]
     },
     "execution_count": 39,
     "metadata": {},
     "output_type": "execute_result"
    }
   ],
   "source": [
    "data = df[['RIAGENDR', 'Target']]\n",
    "gender = data[['RIAGENDR', 'Target']].dropna(how='any')\n",
    "\n",
    "contingency_table = pd.crosstab(\n",
    "    gender['RIAGENDR'],\n",
    "    gender['Target'],\n",
    "    margins=True, \n",
    "    rownames=['Gender'],\n",
    "    colnames=['CVD Indicator']\n",
    ")\n",
    "contingency_table"
   ]
  },
  {
   "cell_type": "code",
   "execution_count": 42,
   "metadata": {
    "ExecuteTime": {
     "end_time": "2021-10-25T02:23:46.436357Z",
     "start_time": "2021-10-25T02:23:46.231368Z"
    }
   },
   "outputs": [
    {
     "data": {
      "image/png": "[encoded data removed]",
      "text/plain": [
       "<Figure size 720x360 with 1 Axes>"
      ]
     },
     "metadata": {},
     "output_type": "display_data"
    }
   ],
   "source": [
    "fig, ax = plt.subplots(figsize=(10, 5))\n",
    "sns.set(font_scale=1.5)\n",
    "\n",
    "malecount = contingency_table.iloc[0][:2].values /27884\n",
    "femalecount = contingency_table.iloc[1][:2].values / 31330\n",
    "\n",
    "categories = [\"No CVD\",\"CVD\"]\n",
    "x = np.arange(len(categories))\n",
    "\n",
    "bar_width = 0.4\n",
    "b1 = ax.bar(x, malecount, \n",
    "            width=bar_width, label='Male')\n",
    "b2 = ax.bar(x + bar_width, femalecount, \n",
    "            width=bar_width, label='Female')\n",
    "\n",
    "# Fix the x-axes.\n",
    "ax.set_xticks(x + bar_width / 2)\n",
    "ax.set_xticklabels(categories)\n",
    "\n",
    "# Label the plot.\n",
    "plt.legend()\n",
    "ax.set_title('Proportion of being diagnosed with CVD by Gender')\n",
    "ax.set_xlabel('CVD Indicator')\n",
    "ax.set_ylabel('Proportion')\n",
    "plt.show()"
   ]
  },
  {
   "cell_type": "markdown",
   "metadata": {},
   "source": [
    "H0 : There is no statistically significant relationship between gender and CVD.\n",
    "\n",
    "H1: There is a statistically significant relationship between gender and CVD."
   ]
  },
  {
   "cell_type": "code",
   "execution_count": 43,
   "metadata": {
    "ExecuteTime": {
     "end_time": "2021-10-25T02:23:56.357967Z",
     "start_time": "2021-10-25T02:23:56.334861Z"
    }
   },
   "outputs": [
    {
     "name": "stdout",
     "output_type": "stream",
     "text": [
      "chi-square statistic =  678.439787358936 \n",
      "p-value =  1.4595488490096886e-149 \n",
      "degrees of freedom =  1 \n",
      "expected values =  [[21481.14344581  6402.85655419]\n",
      " [24135.85655419  7194.14344581]]\n"
     ]
    }
   ],
   "source": [
    "f_obs = np.array([contingency_table.iloc[0][0:2].values,\n",
    "                  contingency_table.iloc[1][0:2].values])\n",
    "chi2, p, dof, expected = stats.chi2_contingency(f_obs)\n",
    "print('chi-square statistic = ',chi2, '\\np-value = ', p, '\\ndegrees of freedom = ', dof, '\\nexpected values = ', expected)\n"
   ]
  },
  {
   "cell_type": "markdown",
   "metadata": {},
   "source": [
    "### Is there a correlation between age and CVD?"
   ]
  },
  {
   "cell_type": "code",
   "execution_count": 44,
   "metadata": {
    "ExecuteTime": {
     "end_time": "2021-10-25T02:24:16.047765Z",
     "start_time": "2021-10-25T02:24:16.032829Z"
    }
   },
   "outputs": [],
   "source": [
    "age_corr = df[['RIDAGEYR','Target']]"
   ]
  },
  {
   "cell_type": "code",
   "execution_count": 45,
   "metadata": {
    "ExecuteTime": {
     "end_time": "2021-10-25T02:24:16.519179Z",
     "start_time": "2021-10-25T02:24:16.496561Z"
    }
   },
   "outputs": [],
   "source": [
    "age = pd.cut(age_corr['RIDAGEYR'],bins=4,right=False)"
   ]
  },
  {
   "cell_type": "code",
   "execution_count": 46,
   "metadata": {
    "ExecuteTime": {
     "end_time": "2021-10-25T02:24:18.698294Z",
     "start_time": "2021-10-25T02:24:18.190544Z"
    }
   },
   "outputs": [
    {
     "data": {
      "text/plain": [
       "Text(0.5, 1.0, 'The distribution of ages')"
      ]
     },
     "execution_count": 46,
     "metadata": {},
     "output_type": "execute_result"
    },
    {
     "data": {
      "image/png": "[encoded data removed]",
      "text/plain": [
       "<Figure size 432x288 with 1 Axes>"
      ]
     },
     "metadata": {},
     "output_type": "display_data"
    }
   ],
   "source": [
    "sns.histplot(x='RIDAGEYR', data=age_corr, hue='Target', stat='density')\n",
    "plt.xlabel('Age')\n",
    "plt.ylabel('Proportion')\n",
    "plt.legend(['CVD','No CVD'])\n",
    "plt.title('The distribution of ages')"
   ]
  },
  {
   "cell_type": "code",
   "execution_count": 47,
   "metadata": {
    "ExecuteTime": {
     "end_time": "2021-10-25T02:24:27.200006Z",
     "start_time": "2021-10-25T02:24:27.193209Z"
    }
   },
   "outputs": [
    {
     "name": "stderr",
     "output_type": "stream",
     "text": [
      "<ipython-input-47-e57b7b87213c>:1: SettingWithCopyWarning: \n",
      "A value is trying to be set on a copy of a slice from a DataFrame.\n",
      "Try using .loc[row_indexer,col_indexer] = value instead\n",
      "\n",
      "See the caveats in the documentation: https://pandas.pydata.org/pandas-docs/stable/user_guide/indexing.html#returning-a-view-versus-a-copy\n",
      "  age_corr['Age'] = age\n"
     ]
    }
   ],
   "source": [
    "age_corr['Age'] = age"
   ]
  },
  {
   "cell_type": "code",
   "execution_count": 48,
   "metadata": {
    "ExecuteTime": {
     "end_time": "2021-10-25T02:24:27.838752Z",
     "start_time": "2021-10-25T02:24:27.723408Z"
    }
   },
   "outputs": [
    {
     "data": {
      "text/html": [
       "<div>\n",
       "<style scoped>\n",
       "    .dataframe tbody tr th:only-of-type {\n",
       "        vertical-align: middle;\n",
       "    }\n",
       "\n",
       "    .dataframe tbody tr th {\n",
       "        vertical-align: top;\n",
       "    }\n",
       "\n",
       "    .dataframe thead th {\n",
       "        text-align: right;\n",
       "    }\n",
       "</style>\n",
       "<table border=\"1\" class=\"dataframe\">\n",
       "  <thead>\n",
       "    <tr style=\"text-align: right;\">\n",
       "      <th>CVD</th>\n",
       "      <th>0.0</th>\n",
       "      <th>1.0</th>\n",
       "      <th>All</th>\n",
       "    </tr>\n",
       "    <tr>\n",
       "      <th>AGE</th>\n",
       "      <th></th>\n",
       "      <th></th>\n",
       "      <th></th>\n",
       "    </tr>\n",
       "  </thead>\n",
       "  <tbody>\n",
       "    <tr>\n",
       "      <th>[20.0, 35.0)</th>\n",
       "      <td>7149</td>\n",
       "      <td>125</td>\n",
       "      <td>7274</td>\n",
       "    </tr>\n",
       "    <tr>\n",
       "      <th>[35.0, 50.0)</th>\n",
       "      <td>9501</td>\n",
       "      <td>928</td>\n",
       "      <td>10429</td>\n",
       "    </tr>\n",
       "    <tr>\n",
       "      <th>[50.0, 65.0)</th>\n",
       "      <td>14184</td>\n",
       "      <td>3710</td>\n",
       "      <td>17894</td>\n",
       "    </tr>\n",
       "    <tr>\n",
       "      <th>[65.0, 80.06)</th>\n",
       "      <td>14783</td>\n",
       "      <td>8834</td>\n",
       "      <td>23617</td>\n",
       "    </tr>\n",
       "    <tr>\n",
       "      <th>All</th>\n",
       "      <td>45617</td>\n",
       "      <td>13597</td>\n",
       "      <td>59214</td>\n",
       "    </tr>\n",
       "  </tbody>\n",
       "</table>\n",
       "</div>"
      ],
      "text/plain": [
       "CVD              0.0    1.0    All\n",
       "AGE                               \n",
       "[20.0, 35.0)    7149    125   7274\n",
       "[35.0, 50.0)    9501    928  10429\n",
       "[50.0, 65.0)   14184   3710  17894\n",
       "[65.0, 80.06)  14783   8834  23617\n",
       "All            45617  13597  59214"
      ]
     },
     "execution_count": 48,
     "metadata": {},
     "output_type": "execute_result"
    }
   ],
   "source": [
    "contingency_table = pd.crosstab(\n",
    "    age_corr['Age'],\n",
    "    age_corr['Target'],\n",
    "    margins=True, \n",
    "    rownames=['AGE'],\n",
    "    colnames=['CVD']\n",
    ")\n",
    "contingency_table"
   ]
  },
  {
   "cell_type": "markdown",
   "metadata": {},
   "source": [
    "H0 : There is no statistically significant relationship between age and CVD.\n",
    "\n",
    "H1: There is a statistically significant relationship between age and CVD."
   ]
  },
  {
   "cell_type": "code",
   "execution_count": 49,
   "metadata": {
    "ExecuteTime": {
     "end_time": "2021-10-25T02:24:30.635763Z",
     "start_time": "2021-10-25T02:24:30.623434Z"
    }
   },
   "outputs": [
    {
     "name": "stdout",
     "output_type": "stream",
     "text": [
      "chi-square statistic =  5857.066214854067 \n",
      "p-value =  0.0 \n",
      "degrees of freedom =  3 \n",
      "expected values =  [[ 5603.70956193  1670.29043807]\n",
      " [ 8034.24347283  2394.75652717]\n",
      " [13785.09470733  4108.90529267]\n",
      " [18193.95225791  5423.04774209]]\n"
     ]
    }
   ],
   "source": [
    "f_obs = np.array([contingency_table.iloc[0][0:2].values,\n",
    "                  contingency_table.iloc[1][0:2].values,\n",
    "                 contingency_table.iloc[2][0:2].values,\n",
    "                 contingency_table.iloc[3][0:2].values])\n",
    "\n",
    "chi2, p, dof, expected = stats.chi2_contingency(f_obs)\n",
    "print('chi-square statistic = ',chi2, '\\np-value = ', p, '\\ndegrees of freedom = ', dof, '\\nexpected values = ', expected)"
   ]
  }
 ],
 "metadata": {
  "hide_input": false,
  "kernelspec": {
   "display_name": "Python 3",
   "language": "python",
   "name": "python3"
  },
  "language_info": {
   "codemirror_mode": {
    "name": "ipython",
    "version": 3
   },
   "file_extension": ".py",
   "mimetype": "text/x-python",
   "name": "python",
   "nbconvert_exporter": "python",
   "pygments_lexer": "ipython3",
   "version": "3.8.5"
  },
  "toc": {
   "base_numbering": 1,
   "nav_menu": {},
   "number_sections": true,
   "sideBar": true,
   "skip_h1_title": false,
   "title_cell": "Table of Contents",
   "title_sidebar": "Contents",
   "toc_cell": false,
   "toc_position": {},
   "toc_section_display": true,
   "toc_window_display": false
  },
  "varInspector": {
   "cols": {
    "lenName": 16,
    "lenType": 16,
    "lenVar": 40
   },
   "kernels_config": {
    "python": {
     "delete_cmd_postfix": "",
     "delete_cmd_prefix": "del ",
     "library": "var_list.py",
     "varRefreshCmd": "print(var_dic_list())"
    },
    "r": {
     "delete_cmd_postfix": ") ",
     "delete_cmd_prefix": "rm(",
     "library": "var_list.r",
     "varRefreshCmd": "cat(var_dic_list()) "
    }
   },
   "types_to_exclude": [
    "module",
    "function",
    "builtin_function_or_method",
    "instance",
    "_Feature"
   ],
   "window_display": false
  }
 },
 "nbformat": 4,
 "nbformat_minor": 4
}
